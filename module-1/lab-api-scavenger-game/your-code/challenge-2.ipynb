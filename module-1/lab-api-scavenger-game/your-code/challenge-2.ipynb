{
 "cells": [
  {
   "cell_type": "code",
   "execution_count": 6,
   "metadata": {},
   "outputs": [],
   "source": [
    "import os\n",
    "from dotenv import load_dotenv\n",
    "load_dotenv()\n",
    "import requests\n",
    "\n",
    "# https://developer.github.com/v3/\n",
    "def githubRequestAuthorized(resource):\n",
    "    authToken = os.getenv(\"token\")\n",
    "    if not authToken:\n",
    "        raise ValueError(\"NECESITAS UN TOKEN\")\n",
    "    else:\n",
    "        print(\"We have a github token: \", authToken[0:4])\n",
    "    headers = {\n",
    "        \"Authorization\": \"token {}\".format(authToken)\n",
    "    }\n",
    "    url = \"https://api.github.com{}\".format(resource)\n",
    "    print(\"Requesting authorized {}\".format(url))\n",
    "    res = requests.get(url, headers=headers)\n",
    "    return res"
   ]
  },
  {
   "cell_type": "code",
   "execution_count": 32,
   "metadata": {},
   "outputs": [
    {
     "name": "stdout",
     "output_type": "stream",
     "text": [
      "We have a github token:  ed96\n",
      "Requesting authorized https://api.github.com/repos/ironhack-datalabs/datamad1019/commits?since=2019-10-20T16:38:00\n"
     ]
    }
   ],
   "source": [
    "data = githubRequestAuthorized('/repos/ironhack-datalabs/datamad1019/commits?since=2019-10-20T16:38:00').json()"
   ]
  },
  {
   "cell_type": "code",
   "execution_count": 33,
   "metadata": {},
   "outputs": [
    {
     "data": {
      "text/plain": [
       "[{'sha': '736943a50f626e98be1b6da8dcf12c36b48f1cb7',\n",
       "  'node_id': 'MDY6Q29tbWl0MjE2NTc2NDQzOjczNjk0M2E1MGY2MjZlOThiZTFiNmRhOGRjZjEyYzM2YjQ4ZjFjYjc=',\n",
       "  'commit': {'author': {'name': 'Marc Pomar',\n",
       "    'email': 'marc@faable.com',\n",
       "    'date': '2019-10-21T10:56:46Z'},\n",
       "   'committer': {'name': 'Marc Pomar',\n",
       "    'email': 'marc@faable.com',\n",
       "    'date': '2019-10-21T10:56:46Z'},\n",
       "   'message': 'listo',\n",
       "   'tree': {'sha': 'c1a56f120fe4f229cb72f20bf384ba236de594df',\n",
       "    'url': 'https://api.github.com/repos/ironhack-datalabs/datamad1019/git/trees/c1a56f120fe4f229cb72f20bf384ba236de594df'},\n",
       "   'url': 'https://api.github.com/repos/ironhack-datalabs/datamad1019/git/commits/736943a50f626e98be1b6da8dcf12c36b48f1cb7',\n",
       "   'comment_count': 0,\n",
       "   'verification': {'verified': False,\n",
       "    'reason': 'unsigned',\n",
       "    'signature': None,\n",
       "    'payload': None}},\n",
       "  'url': 'https://api.github.com/repos/ironhack-datalabs/datamad1019/commits/736943a50f626e98be1b6da8dcf12c36b48f1cb7',\n",
       "  'html_url': 'https://github.com/ironhack-datalabs/datamad1019/commit/736943a50f626e98be1b6da8dcf12c36b48f1cb7',\n",
       "  'comments_url': 'https://api.github.com/repos/ironhack-datalabs/datamad1019/commits/736943a50f626e98be1b6da8dcf12c36b48f1cb7/comments',\n",
       "  'author': {'login': 'boyander',\n",
       "   'id': 568638,\n",
       "   'node_id': 'MDQ6VXNlcjU2ODYzOA==',\n",
       "   'avatar_url': 'https://avatars1.githubusercontent.com/u/568638?v=4',\n",
       "   'gravatar_id': '',\n",
       "   'url': 'https://api.github.com/users/boyander',\n",
       "   'html_url': 'https://github.com/boyander',\n",
       "   'followers_url': 'https://api.github.com/users/boyander/followers',\n",
       "   'following_url': 'https://api.github.com/users/boyander/following{/other_user}',\n",
       "   'gists_url': 'https://api.github.com/users/boyander/gists{/gist_id}',\n",
       "   'starred_url': 'https://api.github.com/users/boyander/starred{/owner}{/repo}',\n",
       "   'subscriptions_url': 'https://api.github.com/users/boyander/subscriptions',\n",
       "   'organizations_url': 'https://api.github.com/users/boyander/orgs',\n",
       "   'repos_url': 'https://api.github.com/users/boyander/repos',\n",
       "   'events_url': 'https://api.github.com/users/boyander/events{/privacy}',\n",
       "   'received_events_url': 'https://api.github.com/users/boyander/received_events',\n",
       "   'type': 'User',\n",
       "   'site_admin': False},\n",
       "  'committer': {'login': 'boyander',\n",
       "   'id': 568638,\n",
       "   'node_id': 'MDQ6VXNlcjU2ODYzOA==',\n",
       "   'avatar_url': 'https://avatars1.githubusercontent.com/u/568638?v=4',\n",
       "   'gravatar_id': '',\n",
       "   'url': 'https://api.github.com/users/boyander',\n",
       "   'html_url': 'https://github.com/boyander',\n",
       "   'followers_url': 'https://api.github.com/users/boyander/followers',\n",
       "   'following_url': 'https://api.github.com/users/boyander/following{/other_user}',\n",
       "   'gists_url': 'https://api.github.com/users/boyander/gists{/gist_id}',\n",
       "   'starred_url': 'https://api.github.com/users/boyander/starred{/owner}{/repo}',\n",
       "   'subscriptions_url': 'https://api.github.com/users/boyander/subscriptions',\n",
       "   'organizations_url': 'https://api.github.com/users/boyander/orgs',\n",
       "   'repos_url': 'https://api.github.com/users/boyander/repos',\n",
       "   'events_url': 'https://api.github.com/users/boyander/events{/privacy}',\n",
       "   'received_events_url': 'https://api.github.com/users/boyander/received_events',\n",
       "   'type': 'User',\n",
       "   'site_admin': False},\n",
       "  'parents': [{'sha': '2b8ea3c4161e7cae55a00ec7600533d9dd2bc25e',\n",
       "    'url': 'https://api.github.com/repos/ironhack-datalabs/datamad1019/commits/2b8ea3c4161e7cae55a00ec7600533d9dd2bc25e',\n",
       "    'html_url': 'https://github.com/ironhack-datalabs/datamad1019/commit/2b8ea3c4161e7cae55a00ec7600533d9dd2bc25e'}]},\n",
       " {'sha': '2b8ea3c4161e7cae55a00ec7600533d9dd2bc25e',\n",
       "  'node_id': 'MDY6Q29tbWl0MjE2NTc2NDQzOjJiOGVhM2M0MTYxZTdjYWU1NWEwMGVjNzYwMDUzM2Q5ZGQyYmMyNWU=',\n",
       "  'commit': {'author': {'name': 'Marc Pomar',\n",
       "    'email': 'marc@faable.com',\n",
       "    'date': '2019-10-21T10:48:31Z'},\n",
       "   'committer': {'name': 'Marc Pomar',\n",
       "    'email': 'marc@faable.com',\n",
       "    'date': '2019-10-21T10:48:31Z'},\n",
       "   'message': 'cambios',\n",
       "   'tree': {'sha': 'aa80c18db95edd83607390fa292799712308767c',\n",
       "    'url': 'https://api.github.com/repos/ironhack-datalabs/datamad1019/git/trees/aa80c18db95edd83607390fa292799712308767c'},\n",
       "   'url': 'https://api.github.com/repos/ironhack-datalabs/datamad1019/git/commits/2b8ea3c4161e7cae55a00ec7600533d9dd2bc25e',\n",
       "   'comment_count': 0,\n",
       "   'verification': {'verified': False,\n",
       "    'reason': 'unsigned',\n",
       "    'signature': None,\n",
       "    'payload': None}},\n",
       "  'url': 'https://api.github.com/repos/ironhack-datalabs/datamad1019/commits/2b8ea3c4161e7cae55a00ec7600533d9dd2bc25e',\n",
       "  'html_url': 'https://github.com/ironhack-datalabs/datamad1019/commit/2b8ea3c4161e7cae55a00ec7600533d9dd2bc25e',\n",
       "  'comments_url': 'https://api.github.com/repos/ironhack-datalabs/datamad1019/commits/2b8ea3c4161e7cae55a00ec7600533d9dd2bc25e/comments',\n",
       "  'author': {'login': 'boyander',\n",
       "   'id': 568638,\n",
       "   'node_id': 'MDQ6VXNlcjU2ODYzOA==',\n",
       "   'avatar_url': 'https://avatars1.githubusercontent.com/u/568638?v=4',\n",
       "   'gravatar_id': '',\n",
       "   'url': 'https://api.github.com/users/boyander',\n",
       "   'html_url': 'https://github.com/boyander',\n",
       "   'followers_url': 'https://api.github.com/users/boyander/followers',\n",
       "   'following_url': 'https://api.github.com/users/boyander/following{/other_user}',\n",
       "   'gists_url': 'https://api.github.com/users/boyander/gists{/gist_id}',\n",
       "   'starred_url': 'https://api.github.com/users/boyander/starred{/owner}{/repo}',\n",
       "   'subscriptions_url': 'https://api.github.com/users/boyander/subscriptions',\n",
       "   'organizations_url': 'https://api.github.com/users/boyander/orgs',\n",
       "   'repos_url': 'https://api.github.com/users/boyander/repos',\n",
       "   'events_url': 'https://api.github.com/users/boyander/events{/privacy}',\n",
       "   'received_events_url': 'https://api.github.com/users/boyander/received_events',\n",
       "   'type': 'User',\n",
       "   'site_admin': False},\n",
       "  'committer': {'login': 'boyander',\n",
       "   'id': 568638,\n",
       "   'node_id': 'MDQ6VXNlcjU2ODYzOA==',\n",
       "   'avatar_url': 'https://avatars1.githubusercontent.com/u/568638?v=4',\n",
       "   'gravatar_id': '',\n",
       "   'url': 'https://api.github.com/users/boyander',\n",
       "   'html_url': 'https://github.com/boyander',\n",
       "   'followers_url': 'https://api.github.com/users/boyander/followers',\n",
       "   'following_url': 'https://api.github.com/users/boyander/following{/other_user}',\n",
       "   'gists_url': 'https://api.github.com/users/boyander/gists{/gist_id}',\n",
       "   'starred_url': 'https://api.github.com/users/boyander/starred{/owner}{/repo}',\n",
       "   'subscriptions_url': 'https://api.github.com/users/boyander/subscriptions',\n",
       "   'organizations_url': 'https://api.github.com/users/boyander/orgs',\n",
       "   'repos_url': 'https://api.github.com/users/boyander/repos',\n",
       "   'events_url': 'https://api.github.com/users/boyander/events{/privacy}',\n",
       "   'received_events_url': 'https://api.github.com/users/boyander/received_events',\n",
       "   'type': 'User',\n",
       "   'site_admin': False},\n",
       "  'parents': [{'sha': '6f25b9f13963779f131f6eb124d8ed26c774d152',\n",
       "    'url': 'https://api.github.com/repos/ironhack-datalabs/datamad1019/commits/6f25b9f13963779f131f6eb124d8ed26c774d152',\n",
       "    'html_url': 'https://github.com/ironhack-datalabs/datamad1019/commit/6f25b9f13963779f131f6eb124d8ed26c774d152'}]}]"
      ]
     },
     "execution_count": 33,
     "metadata": {},
     "output_type": "execute_result"
    }
   ],
   "source": [
    "ldata"
   ]
  },
  {
   "cell_type": "code",
   "execution_count": 18,
   "metadata": {},
   "outputs": [
    {
     "ename": "KeyError",
     "evalue": "'date'",
     "output_type": "error",
     "traceback": [
      "\u001b[0;31m---------------------------------------------------------------------------\u001b[0m",
      "\u001b[0;31mKeyError\u001b[0m                                  Traceback (most recent call last)",
      "\u001b[0;32m<ipython-input-18-096c3c38ba47>\u001b[0m in \u001b[0;36m<module>\u001b[0;34m\u001b[0m\n\u001b[0;32m----> 1\u001b[0;31m \u001b[0mlist\u001b[0m\u001b[0;34m(\u001b[0m\u001b[0mmap\u001b[0m\u001b[0;34m(\u001b[0m\u001b[0;32mlambda\u001b[0m \u001b[0mrepo\u001b[0m\u001b[0;34m:\u001b[0m \u001b[0mrepo\u001b[0m\u001b[0;34m[\u001b[0m\u001b[0;34m\"date\"\u001b[0m\u001b[0;34m]\u001b[0m\u001b[0;34m,\u001b[0m \u001b[0mdata\u001b[0m\u001b[0;34m)\u001b[0m\u001b[0;34m)\u001b[0m\u001b[0;34m\u001b[0m\u001b[0;34m\u001b[0m\u001b[0m\n\u001b[0m",
      "\u001b[0;32m<ipython-input-18-096c3c38ba47>\u001b[0m in \u001b[0;36m<lambda>\u001b[0;34m(repo)\u001b[0m\n\u001b[0;32m----> 1\u001b[0;31m \u001b[0mlist\u001b[0m\u001b[0;34m(\u001b[0m\u001b[0mmap\u001b[0m\u001b[0;34m(\u001b[0m\u001b[0;32mlambda\u001b[0m \u001b[0mrepo\u001b[0m\u001b[0;34m:\u001b[0m \u001b[0mrepo\u001b[0m\u001b[0;34m[\u001b[0m\u001b[0;34m\"date\"\u001b[0m\u001b[0;34m]\u001b[0m\u001b[0;34m,\u001b[0m \u001b[0mdata\u001b[0m\u001b[0;34m)\u001b[0m\u001b[0;34m)\u001b[0m\u001b[0;34m\u001b[0m\u001b[0;34m\u001b[0m\u001b[0m\n\u001b[0m",
      "\u001b[0;31mKeyError\u001b[0m: 'date'"
     ]
    }
   ],
   "source": []
  },
  {
   "cell_type": "code",
   "execution_count": null,
   "metadata": {},
   "outputs": [],
   "source": []
  }
 ],
 "metadata": {
  "kernelspec": {
   "display_name": "Python 3",
   "language": "python",
   "name": "python3"
  },
  "language_info": {
   "codemirror_mode": {
    "name": "ipython",
    "version": 3
   },
   "file_extension": ".py",
   "mimetype": "text/x-python",
   "name": "python",
   "nbconvert_exporter": "python",
   "pygments_lexer": "ipython3",
   "version": "3.7.5rc1"
  }
 },
 "nbformat": 4,
 "nbformat_minor": 2
}
